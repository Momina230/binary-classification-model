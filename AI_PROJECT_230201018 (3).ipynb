{
  "cells": [
    {
      "cell_type": "code",
      "execution_count": null,
      "metadata": {
        "colab": {
          "base_uri": "https://localhost:8080/"
        },
        "id": "UdzALQTy8NTk",
        "outputId": "8ce9d057-901b-43c0-ff00-86e3f32bea1b"
      },
      "outputs": [
        {
          "output_type": "stream",
          "name": "stdout",
          "text": [
            "Collecting opendatasets\n",
            "  Downloading opendatasets-0.1.22-py3-none-any.whl.metadata (9.2 kB)\n",
            "Requirement already satisfied: tqdm in /usr/local/lib/python3.11/dist-packages (from opendatasets) (4.67.1)\n",
            "Requirement already satisfied: kaggle in /usr/local/lib/python3.11/dist-packages (from opendatasets) (1.6.17)\n",
            "Requirement already satisfied: click in /usr/local/lib/python3.11/dist-packages (from opendatasets) (8.1.8)\n",
            "Requirement already satisfied: six>=1.10 in /usr/local/lib/python3.11/dist-packages (from kaggle->opendatasets) (1.17.0)\n",
            "Requirement already satisfied: certifi>=2023.7.22 in /usr/local/lib/python3.11/dist-packages (from kaggle->opendatasets) (2024.12.14)\n",
            "Requirement already satisfied: python-dateutil in /usr/local/lib/python3.11/dist-packages (from kaggle->opendatasets) (2.8.2)\n",
            "Requirement already satisfied: requests in /usr/local/lib/python3.11/dist-packages (from kaggle->opendatasets) (2.32.3)\n",
            "Requirement already satisfied: python-slugify in /usr/local/lib/python3.11/dist-packages (from kaggle->opendatasets) (8.0.4)\n",
            "Requirement already satisfied: urllib3 in /usr/local/lib/python3.11/dist-packages (from kaggle->opendatasets) (2.3.0)\n",
            "Requirement already satisfied: bleach in /usr/local/lib/python3.11/dist-packages (from kaggle->opendatasets) (6.2.0)\n",
            "Requirement already satisfied: webencodings in /usr/local/lib/python3.11/dist-packages (from bleach->kaggle->opendatasets) (0.5.1)\n",
            "Requirement already satisfied: text-unidecode>=1.3 in /usr/local/lib/python3.11/dist-packages (from python-slugify->kaggle->opendatasets) (1.3)\n",
            "Requirement already satisfied: charset-normalizer<4,>=2 in /usr/local/lib/python3.11/dist-packages (from requests->kaggle->opendatasets) (3.4.1)\n",
            "Requirement already satisfied: idna<4,>=2.5 in /usr/local/lib/python3.11/dist-packages (from requests->kaggle->opendatasets) (3.10)\n",
            "Downloading opendatasets-0.1.22-py3-none-any.whl (15 kB)\n",
            "Installing collected packages: opendatasets\n",
            "Successfully installed opendatasets-0.1.22\n"
          ]
        }
      ],
      "source": [
        "#   for data fetching\n",
        "!pip install opendatasets\n"
      ]
    },
    {
      "cell_type": "code",
      "execution_count": null,
      "metadata": {
        "colab": {
          "base_uri": "https://localhost:8080/"
        },
        "id": "izhocom88zIW",
        "outputId": "5e90d309-712e-436f-8a4f-0c5250aa0858"
      },
      "outputs": [
        {
          "output_type": "stream",
          "name": "stdout",
          "text": [
            "Skipping, found downloaded files in \"./student-depression-dataset\" (use force=True to force download)\n"
          ]
        }
      ],
      "source": [
        "import opendatasets as od\n",
        "od.download(\"kaggle.com/datasets/hopesb/student-depression-dataset\")\n"
      ]
    },
    {
      "cell_type": "code",
      "execution_count": null,
      "metadata": {
        "colab": {
          "base_uri": "https://localhost:8080/"
        },
        "id": "cyEdQy069ffm",
        "outputId": "3a2e67cb-89bd-459b-a188-bd4c2a35894a"
      },
      "outputs": [
        {
          "output_type": "stream",
          "name": "stdout",
          "text": [
            "0\n"
          ]
        }
      ],
      "source": [
        "import pandas as pd\n",
        "data=pd.read_csv(\"/content/student-depression-dataset/Student Depression Dataset.csv\")\n",
        "data.describe()\n",
        "data.shape # tells rows and coloumns\n",
        "# print(data.isnull().sum())\n",
        "print(data.duplicated().sum())\n",
        "data = data.drop_duplicates()\n",
        "# print(data.duplicated().sum())\n",
        "#no redundant data but missing data in column financial stress"
      ]
    },
    {
      "cell_type": "code",
      "execution_count": null,
      "metadata": {
        "colab": {
          "base_uri": "https://localhost:8080/"
        },
        "id": "lnWm3t6X995f",
        "outputId": "63ee6b85-7412-4db6-e59c-1789e7f1ccd7"
      },
      "outputs": [
        {
          "output_type": "stream",
          "name": "stdout",
          "text": [
            "Number of missing values in Financial Stress before handling: 3\n",
            "Number of missing values in Financial Stress after handling: 0\n"
          ]
        }
      ],
      "source": [
        "missing_vals=['Financial Stress']\n",
        "for val in missing_vals:\n",
        "  print(f\"Number of missing values in {val} before handling:\", data[val].isnull().sum())\n",
        "  data.dropna (subset=[val], inplace=True)\n",
        "  print(f\"Number of missing values in {val} after handling:\", data[val].isnull().sum())\n",
        "  # removing mssing data"
      ]
    },
    {
      "cell_type": "code",
      "source": [
        "from sklearn.model_selection import train_test_split\n",
        "from sklearn.neighbors import KNeighborsClassifier\n",
        "from sklearn.preprocessing import OneHotEncoder\n",
        "from sklearn.naive_bayes import GaussianNB\n",
        "from sklearn.metrics import accuracy_score\n",
        "from sklearn.impute import SimpleImputer # Import SimpleImputer\n",
        "import pandas as pd\n",
        "\n",
        "df = pd.read_csv(\"/content/student-depression-dataset/Student Depression Dataset.csv\")\n",
        "columns_name = ['id', 'Gender', 'Age', 'City', 'Profession', 'Academic Pressure', 'Work Pressure',\n",
        "              'CGPA', 'Study Satisfaction', 'Job Satisfaction', 'Sleep Duration', 'Dietary Habits',\n",
        "              'Degree', 'Have you ever had suicidal thoughts?', 'Work/Study Hours',\n",
        "              'Financial Stress', 'Family History of Mental Illness', 'Depression']\n",
        "df.columns = columns_name\n",
        "categorical_cols = ['Gender', 'City', 'Profession', 'Sleep Duration', 'Dietary Habits',\n",
        "                  'Degree', 'Have you ever had suicidal thoughts?', 'Family History of Mental Illness']\n",
        "# Removed extra spaces in ' Degree' and 'Have you ever had suicidal thoughts ?'\n",
        "# One-Hot Encoding using pandas get_dummies\n",
        "X = pd.get_dummies(df.drop(columns=['Depression']), columns=categorical_cols, drop_first=True,dummy_na=False)\n",
        "# Applying one-hot encoding to X (features) and dropping the target column , dummy_na=False to avoid creating NaN\n",
        "y = df['Depression']\n",
        "X_train, X_test, y_train, y_test = train_test_split(X, y, test_size=0.2, random_state=42)\n",
        "\n",
        "# Impute missing values using SimpleImputer\n",
        "imputer = SimpleImputer(strategy='most_frequent') # Using 'most_frequent' for categorical features\n",
        "X_train = imputer.fit_transform(X_train)\n",
        "X_test = imputer.transform(X_test)\n",
        "\n",
        "knn = KNeighborsClassifier()\n",
        "knn.fit(X_train, y_train)\n",
        "y_pred = knn.predict(X_test)\n",
        "accuracy = accuracy_score(y_test, y_pred)\n",
        "print(\"knn classifier\")\n",
        "print(accuracy)\n",
        "\n",
        "gnb=GaussianNB()\n",
        "gnb.fit(X_train,y_train)\n",
        "y_pred=gnb.predict(X_test)\n",
        "accuracy=accuracy_score(y_test,y_pred)\n",
        "print(\"guassian classifier\")\n",
        "print(accuracy)"
      ],
      "metadata": {
        "colab": {
          "base_uri": "https://localhost:8080/"
        },
        "id": "uR3OW7dOUHNJ",
        "outputId": "5237b03f-08ab-4f80-eec1-55b87c84a2a3"
      },
      "execution_count": 29,
      "outputs": [
        {
          "output_type": "stream",
          "name": "stdout",
          "text": [
            "knn classifier\n",
            "0.538075613689303\n",
            "guassian classifier\n",
            "0.7905393298691991\n"
          ]
        }
      ]
    },
    {
      "cell_type": "code",
      "source": [
        "import numpy as np\n",
        "import pandas as pd\n",
        "from sklearn.model_selection import train_test_split\n",
        "from sklearn.preprocessing import OneHotEncoder\n",
        "class NeuralNetwork:\n",
        "    def __init__(self, input_size, hidden_size, output_size, learning_rate):\n",
        "        self.input_size = input_size\n",
        "        self.hidden_size = hidden_size\n",
        "        self.output_size = output_size\n",
        "        self.learning_rate = learning_rate\n",
        "        # Initialize weights and biases\n",
        "        np.random.seed(42)\n",
        "        self.weights_input_hidden = np.random.randn(self.input_size, self.hidden_size) * 0.01\n",
        "        self.bias_hidden = np.zeros((1, self.hidden_size))\n",
        "        self.weights_hidden_output = np.random.randn(self.hidden_size, self.output_size) * 0.01\n",
        "        self.bias_output = np.zeros((1, self.output_size))\n",
        "\n",
        "        # Adam optimizer parameters\n",
        "        self.m_wih = np.zeros_like(self.weights_input_hidden)\n",
        "        self.v_wih = np.zeros_like(self.weights_input_hidden)\n",
        "        self.m_bh = np.zeros_like(self.bias_hidden)\n",
        "        self.v_bh = np.zeros_like(self.bias_hidden)\n",
        "        self.m_who = np.zeros_like(self.weights_hidden_output)\n",
        "        self.v_who = np.zeros_like(self.weights_hidden_output)\n",
        "        self.m_bo = np.zeros_like(self.bias_output)\n",
        "        self.v_bo = np.zeros_like(self.bias_output)\n",
        "        self.beta1 = 0.9\n",
        "        self.beta2 = 0.999\n",
        "        self.epsilon = 1e-8\n",
        "        self.t = 0\n",
        "\n",
        "    def sigmoid(self, x):\n",
        "        return 1 / (1 + np.exp(-x))\n",
        "\n",
        "    def sigmoid_derivative(self, x):\n",
        "        return x * (1 - x)\n",
        "\n",
        "    def forward(self, X):\n",
        "        self.hidden_layer_input = np.dot(X, self.weights_input_hidden) + self.bias_hidden\n",
        "        self.hidden_layer_output = self.sigmoid(self.hidden_layer_input)\n",
        "        self.output_layer_input = np.dot(self.hidden_layer_output, self.weights_hidden_output) + self.bias_output\n",
        "        self.predicted_output = self.sigmoid(self.output_layer_input)\n",
        "        return self.predicted_output\n",
        "\n",
        "    def backward(self, X, y):\n",
        "        self.t += 1\n",
        "\n",
        "        # Output layer error and gradient\n",
        "        error_output = self.predicted_output - y.values.reshape(-1, 1)  # Convert y to NumPy array before reshaping\n",
        "        gradient_output = error_output * self.sigmoid_derivative(self.predicted_output)\n",
        "\n",
        "        # Hidden layer error and gradient\n",
        "        error_hidden = np.dot(gradient_output, self.weights_hidden_output.T)\n",
        "        gradient_hidden = error_hidden * self.sigmoid_derivative(self.hidden_layer_output)\n",
        "\n",
        "        # Gradients for weights and biases\n",
        "        grad_who = np.dot(self.hidden_layer_output.T, gradient_output)\n",
        "        grad_bo = np.sum(gradient_output, axis=0, keepdims=True)\n",
        "        grad_wih = np.dot(X.T, gradient_hidden)\n",
        "        grad_bh = np.sum(gradient_hidden, axis=0, keepdims=True)\n",
        "\n",
        "        # Adam optimizer updates\n",
        "        self.m_who = self.beta1 * self.m_who + (1 - self.beta1) * grad_who\n",
        "        self.v_who = self.beta2 * self.v_who + (1 - self.beta2) * (grad_who ** 2)\n",
        "        m_who_hat = self.m_who / (1 - self.beta1 ** self.t)\n",
        "        v_who_hat = self.v_who / (1 - self.beta2 ** self.t)\n",
        "\n",
        "        self.m_bo = self.beta1 * self.m_bo + (1 - self.beta1) * grad_bo\n",
        "        self.v_bo = self.beta2 * self.v_bo + (1 - self.beta2) * (grad_bo ** 2)\n",
        "        m_bo_hat = self.m_bo / (1 - self.beta1 ** self.t)\n",
        "        v_bo_hat = self.v_bo / (1 - self.beta2 ** self.t)\n",
        "\n",
        "        self.m_wih = self.beta1 * self.m_wih + (1 - self.beta1) * grad_wih\n",
        "        self.v_wih = self.beta2 * self.v_wih + (1 - self.beta2) * (grad_wih ** 2)\n",
        "        m_wih_hat = self.m_wih / (1 - self.beta1 ** self.t)\n",
        "        v_wih_hat = self.v_wih / (1 - self.beta2 ** self.t)\n",
        "\n",
        "        self.m_bh = self.beta1 * self.m_bh + (1 - self.beta1) * grad_bh\n",
        "        self.v_bh = self.beta2 * self.v_bh + (1 - self.beta2) * (grad_bh ** 2)\n",
        "        m_bh_hat = self.m_bh / (1 - self.beta1 ** self.t)\n",
        "        v_bh_hat = self.v_bh / (1 - self.beta2 ** self.t)\n",
        "\n",
        "        # Update weights and biases\n",
        "        self.weights_hidden_output -= self.learning_rate * m_who_hat / (np.sqrt(v_who_hat) + self.epsilon)\n",
        "        self.bias_output -= self.learning_rate * m_bo_hat / (np.sqrt(v_bo_hat) + self.epsilon)\n",
        "        self.weights_input_hidden -= self.learning_rate * m_wih_hat / (np.sqrt(v_wih_hat) + self.epsilon)\n",
        "        self.bias_hidden -= self.learning_rate * m_bh_hat / (np.sqrt(v_bh_hat) + self.epsilon)\n",
        "\n",
        "    def compute_loss(self, y):\n",
        "        epsilon = 1e-10  # Small value to prevent log(0)\n",
        "        y = y.values.reshape(-1, 1)  # Reshape target to match predicted output\n",
        "        predicted_output_clipped = np.clip(self.predicted_output, epsilon, 1 - epsilon)\n",
        "        return -np.mean(y * np.log(predicted_output_clipped) + (1 - y) * np.log(1 - predicted_output_clipped))\n",
        "# Load and preprocess dataset\n",
        "col = [\"id\",'Gender','Age','City','Profession','Academic Pressure','Work Pressure','CGPA','Study Satisfaction','Job Satisfaction','Sleep Duration','Dietary Habits','Have you ever had suicidal thoughts ?','Work/Study Hours','Financial Stress','Family History','Depression']\n",
        "df = pd.read_csv('/content/student-depression-dataset/Student Depression Dataset.csv', names = col)\n",
        "\n",
        "# Target and features\n",
        "target = 'Depression'  # Replace with actual target column name\n",
        "X = df.drop(columns=[target])\n",
        "y = df[target]\n",
        "\n",
        "# Encode categorical variables\n",
        "categorical_cols = X.select_dtypes(include=['object']).columns\n",
        "encoder = OneHotEncoder(sparse_output=False, drop='first')\n",
        "encoded_categorical = encoder.fit_transform(X[categorical_cols])\n",
        "\n",
        "# Combine numerical and encoded categorical data\n",
        "X = X.drop(columns=categorical_cols)\n",
        "X = np.hstack([X.values, encoded_categorical])\n",
        "\n",
        "# Standardize numerical data\n",
        "# scaler = StandardScaler()\n",
        "# X = scaler.fit_transform(X)\n",
        "\n",
        "# Encode target variable\n",
        "if y.dtype == 'object' or len(y.unique()) > 2:\n",
        "    y = (y == y.unique()[1]).astype(int)\n",
        "\n",
        "# Train-test split\n",
        "X_train, X_test, y_train, y_test = train_test_split(X, y, test_size=0.2, random_state=42)\n",
        "\n",
        "# Initialize and train the neural network\n",
        "input_size = X_train.shape[1]  # Number of features\n",
        "hidden_size = 64  # Number of neurons in the hidden layer\n",
        "output_size = 1  # Binary classification\n",
        "learning_rate = 0.001\n",
        "batch_size = 128\n",
        "\n",
        "nn = NeuralNetwork(input_size, hidden_size, output_size, learning_rate)\n",
        "epochs = 300\n",
        "\n",
        "for epoch in range(epochs):\n",
        "    nn.forward(X_train)\n",
        "    nn.backward(X_train, y_train)\n",
        "\n",
        "    if epoch % 50 == 0:\n",
        "        loss = nn.compute_loss(y_train)\n",
        "        print(f\"Epoch {epoch}, Loss: {loss:.4f}\")\n",
        "\n",
        "# Evaluate on test data\n",
        "predicted_output_test = nn.forward(X_test)\n",
        "predicted_binary = (predicted_output_test > 0.5).astype(int)\n",
        "accuracy = np.mean(predicted_binary.flatten() == y_test)\n",
        "print(f\"Test Accuracy: {accuracy:.2f}\")\n",
        "\n",
        "\n",
        "# Calculate training accuracy\n",
        "predicted_output_train = nn.forward(X_train)\n",
        "predicted_train_binary = (predicted_output_train > 0.5).astype(int)\n",
        "train_accuracy = np.mean(predicted_train_binary.flatten() == y_train)\n",
        "print(f\"Train Accuracy: {train_accuracy:.2f}\")"
      ],
      "metadata": {
        "colab": {
          "base_uri": "https://localhost:8080/"
        },
        "id": "PjpZdgCVKo6C",
        "outputId": "b17a2bb4-4bd9-472b-81e7-697e9488c283"
      },
      "execution_count": 33,
      "outputs": [
        {
          "output_type": "stream",
          "name": "stdout",
          "text": [
            "Epoch 0, Loss: 0.6964\n",
            "Epoch 50, Loss: 0.6657\n",
            "Epoch 100, Loss: 0.6028\n",
            "Epoch 150, Loss: 0.4955\n",
            "Epoch 200, Loss: 0.4260\n",
            "Epoch 250, Loss: 0.3891\n",
            "Test Accuracy: 0.84\n",
            "Train Accuracy: 0.85\n"
          ]
        }
      ]
    },
    {
      "cell_type": "code",
      "source": [
        "from sklearn.neural_network import MLPClassifier\n",
        "from sklearn.metrics import accuracy_score\n",
        "\n",
        "# Load and preprocess dataset\n",
        "col = [\"id\", 'Gender', 'Age', 'City', 'Profession', 'Academic Pressure', 'Work Pressure', 'CGPA',\n",
        "       'Study Satisfaction', 'Job Satisfaction', 'Sleep Duration', 'Dietary Habits',\n",
        "       'Have you ever had suicidal thoughts ?', 'Work/Study Hours', 'Financial Stress',\n",
        "       'Family History', 'Depression']\n",
        "df = pd.read_csv('/content/student-depression-dataset/Student Depression Dataset.csv', names=col)\n",
        "\n",
        "target = 'Depression'\n",
        "X = df.drop(columns=[target])\n",
        "y = df[target]\n",
        "\n",
        "# Encode categorical variables\n",
        "categorical_cols = X.select_dtypes(include=['object']).columns\n",
        "encoder = OneHotEncoder(sparse_output=False, drop='first')\n",
        "encoded_categorical = encoder.fit_transform(X[categorical_cols])\n",
        "\n",
        "# Combine numerical and encoded categorical data\n",
        "X = X.drop(columns=categorical_cols)\n",
        "X = np.hstack([X.values, encoded_categorical])\n",
        "\n",
        "# Encode target variable\n",
        "if y.dtype == 'object' or len(y.unique()) > 2:\n",
        "    y = (y == y.unique()[1]).astype(int)\n",
        "\n",
        "# Train-test split\n",
        "X_train, X_test, y_train, y_test = train_test_split(X, y, test_size=0.2, random_state=42)\n",
        "\n",
        "# Initialize and train the MLPClassifier\n",
        "mlp = MLPClassifier(\n",
        "    hidden_layer_sizes=(64,),  # Single hidden layer with 64 neurons\n",
        "    activation='logistic',\n",
        "    solver='adam',             # Adam optimizer\n",
        "    learning_rate_init=0.0001,  # Learning rate\n",
        "    max_iter=300,\n",
        "    random_state=42\n",
        ")\n",
        "\n",
        "# Fit the model\n",
        "mlp.fit(X_train, y_train)\n",
        "\n",
        "# Evaluate on test data\n",
        "y_pred_test = mlp.predict(X_test)\n",
        "test_accuracy = accuracy_score(y_test, y_pred_test)\n",
        "print(f\"Test Accuracy: {test_accuracy:.2f}\")\n",
        "\n",
        "# Evaluate on training data\n",
        "y_pred_train = mlp.predict(X_train)\n",
        "train_accuracy = accuracy_score(y_train, y_pred_train)\n",
        "print(f\"Train Accuracy: {train_accuracy:.2f}\")\n",
        "\n",
        "\n"
      ],
      "metadata": {
        "colab": {
          "base_uri": "https://localhost:8080/"
        },
        "id": "jaBDpQhf50xT",
        "outputId": "fa4e183a-0dae-4144-d9a1-b22149d88c0f"
      },
      "execution_count": 36,
      "outputs": [
        {
          "output_type": "stream",
          "name": "stdout",
          "text": [
            "Test Accuracy: 0.85\n",
            "Train Accuracy: 0.85\n",
            "\n",
            "Classification Report (Test Data):\n",
            "              precision    recall  f1-score   support\n",
            "\n",
            "           0       0.83      0.79      0.81      2306\n",
            "           1       0.86      0.88      0.87      3275\n",
            "\n",
            "    accuracy                           0.85      5581\n",
            "   macro avg       0.84      0.84      0.84      5581\n",
            "weighted avg       0.85      0.85      0.85      5581\n",
            "\n"
          ]
        }
      ]
    }
  ],
  "metadata": {
    "colab": {
      "provenance": [],
      "toc_visible": true
    },
    "kernelspec": {
      "display_name": "Python 3",
      "name": "python3"
    },
    "language_info": {
      "name": "python"
    }
  },
  "nbformat": 4,
  "nbformat_minor": 0
}